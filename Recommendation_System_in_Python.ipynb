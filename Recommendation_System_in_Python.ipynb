{
  "nbformat": 4,
  "nbformat_minor": 0,
  "metadata": {
    "colab": {
      "provenance": []
    },
    "kernelspec": {
      "name": "python3",
      "display_name": "Python 3"
    },
    "language_info": {
      "name": "python"
    }
  },
  "cells": [
    {
      "cell_type": "code",
      "execution_count": 6,
      "metadata": {
        "id": "RuT2f_O-hgxg"
      },
      "outputs": [],
      "source": [
        "# Importing Libraries\n",
        "import numpy as np\n",
        "import pandas as pd\n",
        "import sklearn\n",
        "import matplotlib.pyplot as plt\n",
        "import seaborn as sns\n",
        "import warnings\n",
        "warnings.simplefilter(action='ignore', category=FutureWarning)\n"
      ]
    },
    {
      "cell_type": "code",
      "source": [
        "#loading rating dataset\n",
        "ratings = pd.read_csv('/content/ratings.csv')\n",
        "print(ratings.head())\n"
      ],
      "metadata": {
        "colab": {
          "base_uri": "https://localhost:8080/"
        },
        "id": "7o2mHRBYht4D",
        "outputId": "be97d28a-613d-4964-d5ad-1be5c96c7a7a"
      },
      "execution_count": 7,
      "outputs": [
        {
          "output_type": "stream",
          "name": "stdout",
          "text": [
            "   userId  movieId  rating  timestamp\n",
            "0       1        1     4.0  964982703\n",
            "1       1        3     4.0  964981247\n",
            "2       1        6     4.0  964982224\n",
            "3       1       47     5.0  964983815\n",
            "4       1       50     5.0  964982931\n"
          ]
        }
      ]
    },
    {
      "cell_type": "code",
      "source": [
        "# loading movie dataset\n",
        "movies = pd.read_csv(\"https://s3-us-west-2.amazonaws.com/recommender-tutorial/movies.csv\")\n",
        "print(movies.head())\n"
      ],
      "metadata": {
        "colab": {
          "base_uri": "https://localhost:8080/"
        },
        "id": "U8fqqWqbjJCq",
        "outputId": "628ce521-5574-462a-d1f5-610e7aa41ca2"
      },
      "execution_count": 8,
      "outputs": [
        {
          "output_type": "stream",
          "name": "stdout",
          "text": [
            "   movieId                               title  \\\n",
            "0        1                    Toy Story (1995)   \n",
            "1        2                      Jumanji (1995)   \n",
            "2        3             Grumpier Old Men (1995)   \n",
            "3        4            Waiting to Exhale (1995)   \n",
            "4        5  Father of the Bride Part II (1995)   \n",
            "\n",
            "                                        genres  \n",
            "0  Adventure|Animation|Children|Comedy|Fantasy  \n",
            "1                   Adventure|Children|Fantasy  \n",
            "2                               Comedy|Romance  \n",
            "3                         Comedy|Drama|Romance  \n",
            "4                                       Comedy  \n"
          ]
        }
      ]
    },
    {
      "cell_type": "code",
      "source": [
        "\n",
        "# loading movie dataset\n",
        "movies = pd.read_csv(\"/content/movies.csv\")\n",
        "print(movies.head())\n"
      ],
      "metadata": {
        "colab": {
          "base_uri": "https://localhost:8080/"
        },
        "id": "JYCZCFa-i8fJ",
        "outputId": "f845e391-c06d-4eb2-e851-f6e263b8a4e7"
      },
      "execution_count": 9,
      "outputs": [
        {
          "output_type": "stream",
          "name": "stdout",
          "text": [
            "   movieId                               title  \\\n",
            "0        1                    Toy Story (1995)   \n",
            "1        2                      Jumanji (1995)   \n",
            "2        3             Grumpier Old Men (1995)   \n",
            "3        4            Waiting to Exhale (1995)   \n",
            "4        5  Father of the Bride Part II (1995)   \n",
            "\n",
            "                                        genres  \n",
            "0  Adventure|Animation|Children|Comedy|Fantasy  \n",
            "1                   Adventure|Children|Fantasy  \n",
            "2                               Comedy|Romance  \n",
            "3                         Comedy|Drama|Romance  \n",
            "4                                       Comedy  \n"
          ]
        }
      ]
    },
    {
      "cell_type": "code",
      "source": [
        "n_ratings = len(ratings)\n",
        "n_movies = len(ratings['movieId'].unique())\n",
        "n_users = len(ratings['userId'].unique())\n",
        "\n",
        "print(f\"Number of ratings: {n_ratings}\")\n",
        "print(f\"Number of unique movieId's: {n_movies}\")\n",
        "print(f\"Number of unique users: {n_users}\")\n",
        "print(f\"Average ratings per user: {round(n_ratings/n_users, 2)}\")\n",
        "print(f\"Average ratings per movie: {round(n_ratings/n_movies, 2)}\")\n"
      ],
      "metadata": {
        "colab": {
          "base_uri": "https://localhost:8080/"
        },
        "id": "Ztk4xSxqjhoC",
        "outputId": "cd758e37-3454-4b4e-ccf1-7bc17b52a2d4"
      },
      "execution_count": 10,
      "outputs": [
        {
          "output_type": "stream",
          "name": "stdout",
          "text": [
            "Number of ratings: 100836\n",
            "Number of unique movieId's: 9724\n",
            "Number of unique users: 610\n",
            "Average ratings per user: 165.3\n",
            "Average ratings per movie: 10.37\n"
          ]
        }
      ]
    },
    {
      "cell_type": "code",
      "source": [
        "user_freq = ratings[['userId', 'movieId']].groupby(\n",
        "\t'userId').count().reset_index()\n",
        "user_freq.columns = ['userId', 'n_ratings']\n",
        "print(user_freq.head())\n"
      ],
      "metadata": {
        "colab": {
          "base_uri": "https://localhost:8080/"
        },
        "id": "yk6HW0LMjjwR",
        "outputId": "e58c7a53-3c07-49b7-f441-5d5a2646542f"
      },
      "execution_count": 11,
      "outputs": [
        {
          "output_type": "stream",
          "name": "stdout",
          "text": [
            "   userId  n_ratings\n",
            "0       1        232\n",
            "1       2         29\n",
            "2       3         39\n",
            "3       4        216\n",
            "4       5         44\n"
          ]
        }
      ]
    },
    {
      "cell_type": "code",
      "source": [
        "# Find Lowest and Highest rated movies:\n",
        "mean_rating = ratings.groupby('movieId')[['rating']].mean()\n",
        "# Lowest rated movies\n",
        "lowest_rated = mean_rating['rating'].idxmin()\n",
        "movies.loc[movies['movieId'] == lowest_rated]\n",
        "# Highest rated movies\n",
        "highest_rated = mean_rating['rating'].idxmax()\n",
        "movies.loc[movies['movieId'] == highest_rated]\n",
        "# show number of people who rated movies rated movie highest\n",
        "ratings[ratings['movieId']==highest_rated]\n",
        "# show number of people who rated movies rated movie lowest\n",
        "ratings[ratings['movieId']==lowest_rated]\n",
        "\n",
        "## the above movies has very low dataset. We will use bayesian average\n",
        "movie_stats = ratings.groupby('movieId')[['rating']].agg(['count', 'mean'])\n",
        "movie_stats.columns = movie_stats.columns.droplevel()\n"
      ],
      "metadata": {
        "id": "Bhjn3YPbjley"
      },
      "execution_count": 12,
      "outputs": []
    },
    {
      "cell_type": "code",
      "source": [
        "# Now, we create user-item matrix using scipy csr matrix\n",
        "from scipy.sparse import csr_matrix\n",
        "\n",
        "def create_matrix(df):\n",
        "\n",
        "\tN = len(df['userId'].unique())\n",
        "\tM = len(df['movieId'].unique())\n",
        "\n",
        "\t# Map Ids to indices\n",
        "\tuser_mapper = dict(zip(np.unique(df[\"userId\"]), list(range(N))))\n",
        "\tmovie_mapper = dict(zip(np.unique(df[\"movieId\"]), list(range(M))))\n",
        "\n",
        "\t# Map indices to IDs\n",
        "\tuser_inv_mapper = dict(zip(list(range(N)), np.unique(df[\"userId\"])))\n",
        "\tmovie_inv_mapper = dict(zip(list(range(M)), np.unique(df[\"movieId\"])))\n",
        "\n",
        "\tuser_index = [user_mapper[i] for i in df['userId']]\n",
        "\tmovie_index = [movie_mapper[i] for i in df['movieId']]\n",
        "\n",
        "\tX = csr_matrix((df[\"rating\"], (movie_index, user_index)), shape=(M, N))\n",
        "\n",
        "\treturn X, user_mapper, movie_mapper, user_inv_mapper, movie_inv_mapper\n",
        "\n",
        "X, user_mapper, movie_mapper, user_inv_mapper, movie_inv_mapper = create_matrix(ratings)\n"
      ],
      "metadata": {
        "id": "li12UgM9jnQC"
      },
      "execution_count": 13,
      "outputs": []
    },
    {
      "cell_type": "code",
      "source": [
        "\"\"\"\n",
        "Find similar movies using KNN\n",
        "\"\"\"\n",
        "from sklearn.neighbors import NearestNeighbors\n",
        "def find_similar_movies(movie_id, X, k, metric='cosine', show_distance=False):\n",
        "\n",
        "\tneighbour_ids = []\n",
        "\n",
        "\tmovie_ind = movie_mapper[movie_id]\n",
        "\tmovie_vec = X[movie_ind]\n",
        "\tk+=1\n",
        "\tkNN = NearestNeighbors(n_neighbors=k, algorithm=\"brute\", metric=metric)\n",
        "\tkNN.fit(X)\n",
        "\tmovie_vec = movie_vec.reshape(1,-1)\n",
        "\tneighbour = kNN.kneighbors(movie_vec, return_distance=show_distance)\n",
        "\tfor i in range(0,k):\n",
        "\t\tn = neighbour.item(i)\n",
        "\t\tneighbour_ids.append(movie_inv_mapper[n])\n",
        "\tneighbour_ids.pop(0)\n",
        "\treturn neighbour_ids\n",
        "\n",
        "\n",
        "movie_titles = dict(zip(movies['movieId'], movies['title']))\n",
        "\n",
        "movie_id = 3\n",
        "\n",
        "similar_ids = find_similar_movies(movie_id, X, k=10)\n",
        "movie_title = movie_titles[movie_id]\n",
        "\n",
        "print(f\"Since you watched {movie_title}\")\n",
        "for i in similar_ids:\n",
        "\tprint(movie_titles[i])\n"
      ],
      "metadata": {
        "colab": {
          "base_uri": "https://localhost:8080/"
        },
        "id": "IkUr26Ohjova",
        "outputId": "0515bce8-2f72-4ba7-c11e-78ab9cdcfdf6"
      },
      "execution_count": 17,
      "outputs": [
        {
          "output_type": "stream",
          "name": "stdout",
          "text": [
            "Since you watched Grumpier Old Men (1995)\n",
            "Grumpy Old Men (1993)\n",
            "Striptease (1996)\n",
            "Nutty Professor, The (1996)\n",
            "Twister (1996)\n",
            "Father of the Bride Part II (1995)\n",
            "Broken Arrow (1996)\n",
            "Bio-Dome (1996)\n",
            "Truth About Cats & Dogs, The (1996)\n",
            "Sabrina (1995)\n",
            "Birdcage, The (1996)\n"
          ]
        }
      ]
    },
    {
      "cell_type": "code",
      "source": [
        "def recommend_movies_for_user(user_id, X, user_mapper, movie_mapper, movie_inv_mapper, k=10):\n",
        "\tdf1 = ratings[ratings['userId'] == user_id]\n",
        "\n",
        "\tif df1.empty:\n",
        "\t\tprint(f\"User with ID {user_id} does not exist.\")\n",
        "\t\treturn\n",
        "\n",
        "\tmovie_id = df1[df1['rating'] == max(df1['rating'])]['movieId'].iloc[0]\n",
        "\n",
        "\tmovie_titles = dict(zip(movies['movieId'], movies['title']))\n",
        "\n",
        "\tsimilar_ids = find_similar_movies(movie_id, X, k)\n",
        "\tmovie_title = movie_titles.get(movie_id, \"Movie not found\")\n",
        "\n",
        "\tif movie_title == \"Movie not found\":\n",
        "\t\tprint(f\"Movie with ID {movie_id} not found.\")\n",
        "\t\treturn\n",
        "\n",
        "\tprint(f\"Since you watched {movie_title}, you might also like:\")\n",
        "\tfor i in similar_ids:\n",
        "\t\tprint(movie_titles.get(i, \"Movie not found\"))\n"
      ],
      "metadata": {
        "id": "zkHIJF3tjsZR"
      },
      "execution_count": 21,
      "outputs": []
    },
    {
      "cell_type": "code",
      "source": [
        "user_id = 150 # Replace with the desired user ID\n",
        "recommend_movies_for_user(user_id, X, user_mapper, movie_mapper, movie_inv_mapper, k=10)\n"
      ],
      "metadata": {
        "colab": {
          "base_uri": "https://localhost:8080/"
        },
        "id": "vjFp6hGCjuV6",
        "outputId": "4ecd9b14-b159-4dc9-fd62-4a15502372f6"
      },
      "execution_count": 19,
      "outputs": [
        {
          "output_type": "stream",
          "name": "stdout",
          "text": [
            "Since you watched Twelve Monkeys (a.k.a. 12 Monkeys) (1995), you might also like:\n",
            "Pulp Fiction (1994)\n",
            "Terminator 2: Judgment Day (1991)\n",
            "Independence Day (a.k.a. ID4) (1996)\n",
            "Seven (a.k.a. Se7en) (1995)\n",
            "Fargo (1996)\n",
            "Fugitive, The (1993)\n",
            "Usual Suspects, The (1995)\n",
            "Jurassic Park (1993)\n",
            "Star Wars: Episode IV - A New Hope (1977)\n",
            "Heat (1995)\n"
          ]
        }
      ]
    },
    {
      "cell_type": "code",
      "source": [
        "user_id = 2300 # Replace with the desired user ID\n",
        "recommend_movies_for_user(user_id, X, user_mapper, movie_mapper, movie_inv_mapper, k=10)\n"
      ],
      "metadata": {
        "colab": {
          "base_uri": "https://localhost:8080/"
        },
        "id": "KgkCc-6IjwQa",
        "outputId": "a3efdf8d-f24f-450e-f3fc-e4628dfcbc2a"
      },
      "execution_count": 20,
      "outputs": [
        {
          "output_type": "stream",
          "name": "stdout",
          "text": [
            "User with ID 2300 does not exist.\n"
          ]
        }
      ]
    },
    {
      "cell_type": "code",
      "source": [
        "\"\"\"Conclusion\n",
        "In conclusion, developing a Python recommendation system allows for the creation of tailored content recommendations that improve user experience and take into account user preferences. Through the utilization of collaborative filtering, content-based filtering, and hybrid techniques, these systems are able to offer customized recommendations to consumers for content, movies, or items. These systems use sophisticated methods such as closest neighbors and matrix factorization to find hidden patterns in item attributes and user behavior. Recommendation systems are able to adjust and get better over time thanks to the combination of machine learning and data-driven insights. In the end, these solutions are essential for raising consumer satisfaction, improving user engagement, and propelling corporate expansion in a variety of industries.\"\"\""
      ],
      "metadata": {
        "id": "H_xoP1gIjzf2"
      },
      "execution_count": 14,
      "outputs": []
    }
  ]
}